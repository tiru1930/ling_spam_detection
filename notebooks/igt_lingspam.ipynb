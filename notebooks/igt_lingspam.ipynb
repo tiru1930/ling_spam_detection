{
 "cells": [
  {
   "cell_type": "code",
   "execution_count": 33,
   "metadata": {},
   "outputs": [
    {
     "name": "stdout",
     "output_type": "stream",
     "text": [
      "Requirement already satisfied: tqdm in /opt/conda/lib/python3.7/site-packages (4.46.0)\n"
     ]
    }
   ],
   "source": [
    "# !pip install pandas \n",
    "# !pip install plotly-express\n",
    "# !pip install matplotlib\n",
    "# !pip install spacy\n",
    "# !python -m spacy download en_core_web_lg\n",
    "# !pip install sklearn\n",
    "# !pip install transformers\n",
    "# !pip install tqdm"
   ]
  },
  {
   "cell_type": "code",
   "execution_count": 19,
   "metadata": {},
   "outputs": [],
   "source": [
    "import os\n",
    "from glob import glob\n",
    "import pandas as pd \n",
    "import plotly.express as px\n",
    "import re\n",
    "import spacy\n",
    "nlp = spacy.load(\"en_core_web_lg\")"
   ]
  },
  {
   "cell_type": "code",
   "execution_count": 7,
   "metadata": {},
   "outputs": [],
   "source": [
    "data_dict = {\"text\":[],\"label\":[],\"filename\":[]}\n",
    "for name in glob('../data/lingspam_public/**/*/*.txt',recursive = True):\n",
    "    with open(name) as fin:\n",
    "        text = fin.read()\n",
    "        data_dict[\"text\"].append(text)\n",
    "    filename = os.path.basename(name)\n",
    "    data_dict[\"filename\"].append(filename)\n",
    "    if \"spmsg\" in filename:\n",
    "            data_dict[\"label\"].append(\"spam\")\n",
    "    else:\n",
    "            data_dict[\"label\"].append(\"not-spam\")\n",
    "raw_data_df = pd.DataFrame(data_dict)"
   ]
  },
  {
   "cell_type": "code",
   "execution_count": 57,
   "metadata": {},
   "outputs": [
    {
     "data": {
      "text/html": [
       "<div>\n",
       "<style scoped>\n",
       "    .dataframe tbody tr th:only-of-type {\n",
       "        vertical-align: middle;\n",
       "    }\n",
       "\n",
       "    .dataframe tbody tr th {\n",
       "        vertical-align: top;\n",
       "    }\n",
       "\n",
       "    .dataframe thead th {\n",
       "        text-align: right;\n",
       "    }\n",
       "</style>\n",
       "<table border=\"1\" class=\"dataframe\">\n",
       "  <thead>\n",
       "    <tr style=\"text-align: right;\">\n",
       "      <th></th>\n",
       "      <th>text</th>\n",
       "      <th>label</th>\n",
       "      <th>filename</th>\n",
       "    </tr>\n",
       "  </thead>\n",
       "  <tbody>\n",
       "    <tr>\n",
       "      <th>0</th>\n",
       "      <td>Subject: re : 6 . 44 varia : animal and who , ...</td>\n",
       "      <td>not-spam</td>\n",
       "      <td>6-60msg1.txt</td>\n",
       "    </tr>\n",
       "    <tr>\n",
       "      <th>1</th>\n",
       "      <td>Subject: child language seminar 1999\\n\\nplease...</td>\n",
       "      <td>not-spam</td>\n",
       "      <td>9-1745msg2.txt</td>\n",
       "    </tr>\n",
       "    <tr>\n",
       "      <th>2</th>\n",
       "      <td>Subject: free book ! from # 1 best - selle fin...</td>\n",
       "      <td>spam</td>\n",
       "      <td>spmsgb73.txt</td>\n",
       "    </tr>\n",
       "    <tr>\n",
       "      <th>3</th>\n",
       "      <td>Subject: you can win ! ! !\\n\\nenter the super ...</td>\n",
       "      <td>spam</td>\n",
       "      <td>spmsgb76.txt</td>\n",
       "    </tr>\n",
       "    <tr>\n",
       "      <th>4</th>\n",
       "      <td>Subject: 6th intl . symposium on social commun...</td>\n",
       "      <td>not-spam</td>\n",
       "      <td>9-174msg1.txt</td>\n",
       "    </tr>\n",
       "  </tbody>\n",
       "</table>\n",
       "</div>"
      ],
      "text/plain": [
       "                                                text     label        filename\n",
       "0  Subject: re : 6 . 44 varia : animal and who , ...  not-spam    6-60msg1.txt\n",
       "1  Subject: child language seminar 1999\\n\\nplease...  not-spam  9-1745msg2.txt\n",
       "2  Subject: free book ! from # 1 best - selle fin...      spam    spmsgb73.txt\n",
       "3  Subject: you can win ! ! !\\n\\nenter the super ...      spam    spmsgb76.txt\n",
       "4  Subject: 6th intl . symposium on social commun...  not-spam   9-174msg1.txt"
      ]
     },
     "execution_count": 57,
     "metadata": {},
     "output_type": "execute_result"
    }
   ],
   "source": [
    "raw_data_df.head()"
   ]
  },
  {
   "cell_type": "code",
   "execution_count": 58,
   "metadata": {},
   "outputs": [],
   "source": [
    "data = raw_data_df[[\"text\",\"label\"]]"
   ]
  },
  {
   "cell_type": "code",
   "execution_count": 59,
   "metadata": {},
   "outputs": [
    {
     "data": {
      "text/plain": [
       "text     0\n",
       "label    0\n",
       "dtype: int64"
      ]
     },
     "execution_count": 59,
     "metadata": {},
     "output_type": "execute_result"
    }
   ],
   "source": [
    "data.isnull().sum()"
   ]
  },
  {
   "cell_type": "code",
   "execution_count": 61,
   "metadata": {},
   "outputs": [
    {
     "data": {
      "text/plain": [
       "<AxesSubplot:>"
      ]
     },
     "execution_count": 61,
     "metadata": {},
     "output_type": "execute_result"
    },
    {
     "data": {
      "image/png": "[encoded data removed]",
      "text/plain": [
       "<Figure size 432x288 with 1 Axes>"
      ]
     },
     "metadata": {
      "needs_background": "light"
     },
     "output_type": "display_data"
    }
   ],
   "source": [
    "data[\"label\"].value_counts().plot.bar()"
   ]
  },
  {
   "cell_type": "code",
   "execution_count": 67,
   "metadata": {},
   "outputs": [
    {
     "data": {
      "text/plain": [
       "'Subject: re : 6 . 44 varia : animal and who , kant and innateness\\n\\ndavid power say : ) the whole point of science be ) to explain the phenomenon we observe , and say that \" we be bear with it \" be ) not an explanation . . . . ) even give the validity of the claim , the fact beg an explanation . . . . ) linguistic have a tendency to stop at be descriptive . science alway go ) further than mere description . describe the commonality present across the ) full range of human language , in a neat , parsimonious way , be but a first step ; ) for science demand explanation : why do language have the form it do ? ) where do these universal come from ? why do we have this range of parameter ) setting ? what relationship do language have to think ? consciousness ? ) perception ? while i agree that linguistic inquiry should push the ` explanatory \\' envelop as far as it possibly can , let us not deceive ourselve into think that ` explanation \\' , of the type david power speak of , be anything more than another level of description . in the ultimate sense , it remains true that science can never hope to explain anything in any essential way . it can only establish cause and effect link but cannot take these back to ultimate origin . to do so call for an infinite wisdom that human and artificial intelligence be simply incapable of . it be reason itself which tell us this be so . to pretend it be ( or can be ) otherwise be to undermine the very tenet of reason on which we base our analysis of this world and to enter the realm of faith , unreasonably turn reason into a religion in the process . at its very best , human science can only provide us with partial explanation , which be really description in disguise . perhap this be disagreeably humble to the ambition of the human enterprise , but this be the conclusion that we must come to unless we abandon empirical foundation altogether and claim , as an article of faith , that humankind possese infinite cognition . if we be not will to accept the latter proposition , then we must recognize that the very empiricism that we adhere to in order to do science lead us to the kantian barrier beyond which reason will not take us . concommitantly , like kant , we must accept that reason , at the point where it can go no further , point us in the direction of a transcendent origin . probably david power do not intend his remark to project us into the realm of absolute . but when it be a question of the philosophy of science , absolute be not only fair game , they be essential to proper reflection . michael d . picone university of alabama mpicone @ ua1vm . ua . edu\\n'"
      ]
     },
     "execution_count": 67,
     "metadata": {},
     "output_type": "execute_result"
    }
   ],
   "source": [
    "data[\"text\"] [0]"
   ]
  },
  {
   "cell_type": "code",
   "execution_count": 68,
   "metadata": {},
   "outputs": [
    {
     "data": {
      "text/plain": [
       "'Subject: child language seminar 1999\\n\\nplease post to the list , thank you . child language seminar 1999 first announcement and call for papers 2 - 4 september 1999 the 1999 child language seminar will be host by the department of language and communication science , city university , london , uk . proposal be invite for papers of 30 minute duration and for poster on issue relate to language acquisition in child . * keynote speakers : dan slobin and judy kegl * conference location the conference session will be hold at the main campus with accommodation nearby at rosebery hall . city university be locate near islington , within walk distance of central london . * publication of proceedings select papers will be publish in the conference proceedings , to appear before 31 december 2000 . * how to submit abstracts abstract should be up to 250 word in length ( exclude reference ) and may be submit preferably by e-mail or e-mail attachment , alternatively by mail or fax . submission should be receive by 1 may 1999 . at the top of the abstract please include name ( s ) of author ( s ) , institutional affiliation , full address , e - mail address , telephone and fax number , paper or poster , equipment requirement . please leave several line between this information and the title and body of the abstract so that the header information can be remove for anonymous review . send your abstract to : cls 99 dept . of language and communication science , city university , northampton sq . , london , ec1v 0hb e-mail : cls99 @ city . ac . uk fax : ( + 44 ) ( 0 ) 171 477 8577 minicom / tty : + 44 ( 0 ) 171 477 8314 * for questions or more information on the conference please check our conference website : http : / / www . city . ac . uk / cc / cls99 . htm or contact : gary morgan : 44 ( 0 ) 171 419 3162 shula chiat : 44 ( 0 ) 171 477 8297 - - - - - - gary morgan dept of linguistic , ucl , london tel : 121 4193162 ( voice / text ) fax : 121 3834198\\n'"
      ]
     },
     "execution_count": 68,
     "metadata": {},
     "output_type": "execute_result"
    }
   ],
   "source": [
    "data[\"text\"][1]"
   ]
  },
  {
   "cell_type": "code",
   "execution_count": 69,
   "metadata": {},
   "outputs": [
    {
     "data": {
      "text/plain": [
       "'Subject: re : sum : native speaker intuition\\n\\nmarilyn silva recently summarise response deal with \" native speaker intuition \" , especially with respect to the sentence \\' john ask mary to leave \\' . she note that several respondent point out that the interpretation of this sentence be determine , at least in part , pragmatically , and the view that the interpretation be syntactically fix be wrong . this point be demonstrate by the ) pair of example : ) ) [ 1 ] the teacher ask the child to leave the room . ) [ 2 ] the child ask the teacher to leave the room . i be a native speaker of english ( new zealand english ) , and i be not a syntactician , so i do n\\'t think my syntax be be mould by my , or anyone else \\'s , rule or theory , but , in both [ 1 ] and [ 2 ] , i can only interpret the person be ask ( the child in [ 1 ] , the teacher in [ 2 ] ) as be the person require to leave the room . no amount of ) intuition fatigue ( which could be sum ) up as \" say a weird string 50 time and it sound good ; say a ) good string 50 time and it sound weird \" ) have be able to change my interpretation of this kind of sentence . perhap for some people the interpretation of this sentence * is * syntactically determine . the summary conclude with : ) in his post to me , carson contend that judgment datum \" can ) provide real , useful datum , if we would just be more systematical ) and careful about how we collect them . of course speaker will ) differ on certain point . . . . the interest question be whether ) the range of variation we find be systematically constrain in ) way that interest theory of grammar can explain . \" i agree that ( native ) speaker will differ on certain point - - my syntax probably differ from that of most people , and i think this be probably typical ( in my case the follow ( a ) sentence be ungrammatical and would normally be the ( b ) sentence : 1 . ( a ) i promise mary to leave . ( b ) i promise mary i would leave . 2 . ( a ) candidate be recommend to obtain the booklet . ( b ) it be recommend that candidate obtain the booklet . 3 . ( a ) john require to pass the examination . ( b ) john need to / must pass the examination . john require a pass in the examination . s . o . require john to pass the examination . 4 . ( a ) i see the barn red . ( b ) ? ? ? it be important that syntactition realise that one there be probably thousand of syntactically distinct english out there , and i be not talk about socially or geographically definable varity . there may not be many new zealand english speaker who share the above judgment , but * my * english be no less base on a natural language grammar than anyone else \\'s . because the interpretation of a certain construction may be influence by pragmatic factor be some , or even in the majority , of speaker , do not disqualify a purely syntactic account if there are speakers whose language data are accounted for by it . where there be variation among langauge user , it be very important not to conflate these difference and try to base a grammar ( syntax / phonology . . . ) on an impure sample . untimately , a grammar be an account of an individual \\' s language . student \\'s who disagree with datum be rarely be contentious - - i contend that they have a slightly different grammatical structure which be , of course , no less valuable in the search for constraint on syntactic structure than the teacher \\'s or a \" receive \" english grammar . i heartily endorse carson \\'s call for more systematic and careful collection of syntactic datum . think about it - - be your english really syntactically the same as your colleague \\'s , or your father \\'s ? if not , care must be take when conflate datum from these source , and even more care must be take when conflate datum from even more diverse source . wayne p . lawrence\\n'"
      ]
     },
     "execution_count": 69,
     "metadata": {},
     "output_type": "execute_result"
    }
   ],
   "source": [
    "data[\"text\"][1000]"
   ]
  },
  {
   "cell_type": "code",
   "execution_count": 97,
   "metadata": {},
   "outputs": [
    {
     "name": "stderr",
     "output_type": "stream",
     "text": [
      "/opt/conda/lib/python3.7/site-packages/ipykernel_launcher.py:2: FutureWarning:\n",
      "\n",
      "The default value of regex will change from True to False in a future version.\n",
      "\n",
      "/opt/conda/lib/python3.7/site-packages/ipykernel_launcher.py:3: FutureWarning:\n",
      "\n",
      "The default value of regex will change from True to False in a future version.\n",
      "\n",
      "/opt/conda/lib/python3.7/site-packages/ipykernel_launcher.py:4: FutureWarning:\n",
      "\n",
      "The default value of regex will change from True to False in a future version.\n",
      "\n",
      "/opt/conda/lib/python3.7/site-packages/ipykernel_launcher.py:5: FutureWarning:\n",
      "\n",
      "The default value of regex will change from True to False in a future version.\n",
      "\n",
      "/opt/conda/lib/python3.7/site-packages/ipykernel_launcher.py:6: FutureWarning:\n",
      "\n",
      "The default value of regex will change from True to False in a future version.\n",
      "\n",
      "/opt/conda/lib/python3.7/site-packages/ipykernel_launcher.py:7: FutureWarning:\n",
      "\n",
      "The default value of regex will change from True to False in a future version.\n",
      "\n",
      "/opt/conda/lib/python3.7/site-packages/ipykernel_launcher.py:8: FutureWarning:\n",
      "\n",
      "The default value of regex will change from True to False in a future version.\n",
      "\n"
     ]
    }
   ],
   "source": [
    "data[\"text\"] = data[\"text\"].str.replace(\"\\n\",\" \")\n",
    "data[\"text\"] = data[\"text\"].str.replace(r'^.+@[^\\.].*\\.[a-z]{2,}$','MailID')\n",
    "data[\"text\"] = data[\"text\"].str.replace(r'^http\\://[a-zA-Z0-9\\-\\.]+\\.[a-zA-Z]{2,3}(/\\S*)?$','Links')\n",
    "data[\"text\"] = data[\"text\"].str.replace(r\"\\s+\",\" \")\n",
    "data[\"text\"] = data[\"text\"].str.replace(r'£|\\$', 'Money')\n",
    "data[\"text\"] = data[\"text\"].str.replace(r'^\\s+|\\s+?$', '')\n",
    "data[\"text\"] = data[\"text\"].str.replace(r'^\\(?[\\d]{3}\\)?[\\s+]?[\\d]{3}[\\s+]?[\\d]{4}$','contact number')\n",
    "data[\"text\"] = data[\"text\"].str.replace(r\"[^a-zA-Z0-9]+\", \" \")"
   ]
  },
  {
   "cell_type": "code",
   "execution_count": 108,
   "metadata": {},
   "outputs": [
    {
     "data": {
      "text/plain": [
       "'subject child language seminar 1999 please post to the list thank you child language seminar 1999 first announcement and call for papers 2 4 september 1999 the 1999 child language seminar will be host by the department of language and communication science city university london uk proposal be invite for papers of 30 minute duration and for poster on issue relate to language acquisition in child keynote speakers dan slobin and judy kegl conference location the conference session will be hold at the main campus with accommodation nearby at rosebery hall city university be locate near islington within walk distance of central london publication of proceedings select papers will be publish in the conference proceedings to appear before 31 december 2000 how to submit abstracts abstract should be up to 250 word in length exclude reference and may be submit preferably by e mail or e mail attachment alternatively by mail or fax submission should be receive by 1 may 1999 at the top of the abstract please include name s of author s institutional affiliation full address e mail address telephone and fax number paper or poster equipment requirement please leave several line between this information and the title and body of the abstract so that the header information can be remove for anonymous review send your abstract to cls 99 dept of language and communication science city university northampton sq london ec1v 0hb e mail cls99 city ac uk fax 44 0 171 477 8577 minicom tty 44 0 171 477 8314 for questions or more information on the conference please check our conference website http www city ac uk cc cls99 htm or contact gary morgan 44 0 171 419 3162 shula chiat 44 0 171 477 8297 gary morgan dept of linguistic ucl london tel 121 4193162 voice text fax 121 3834198'"
      ]
     },
     "execution_count": 108,
     "metadata": {},
     "output_type": "execute_result"
    }
   ],
   "source": [
    "data[\"text\"][1]"
   ]
  },
  {
   "cell_type": "code",
   "execution_count": 136,
   "metadata": {},
   "outputs": [
    {
     "name": "stdout",
     "output_type": "stream",
     "text": [
      "subject child language seminar 1999 post list thank child language seminar 1999 announcement paper 2 4 september 1999 1999 child language seminar host department language communication science city university london uk proposal invite paper 30 minute duration poster issue relate language acquisition child keynote speaker dan slobin judy kegl conference location conference session hold main campus accommodation nearby rosebery hall city university locate near islington walk distance central london publication proceeding select paper publish conference proceeding appear 31 december 2000 submit abstract abstract 250 word length exclude reference submit preferably e mail e mail attachment alternatively mail fax submission receive 1 1999 abstract include s author s institutional affiliation address e mail address telephone fax number paper poster equipment requirement leave line information title body abstract header information remove anonymous review send abstract cls 99 dept language communication science city university northampton sq london ec1v 0hb e mail cls99 city ac uk fax 44 0 171 477 8577 minicom tty 44 0 171 477 8314 question information conference check conference website http www city ac uk cc cls99 htm contact gary morgan 44 0 171 419 3162 shula chiat 44 0 171 477 8297 gary morgan dept linguistic ucl london tel 121 4193162 voice text fax 121 3834198\n",
      "****************************************************************************************************\n",
      "subject child language seminar DATE post list thank child language seminar DATE announcement paper DATE DATE DATE DATE DATE child language seminar host department language communication science city university GPE uk proposal invite paper TIME TIME duration poster issue relate language acquisition child keynote speaker dan slobin judy kegl conference location conference session hold main campus accommodation nearby rosebery hall city university locate near islington walk distance central GPE publication proceed select paper publish conference proceeding appear DATE DATE DATE submit abstract abstract CARDINAL word length exclude reference submit preferably e mail e mail attachment alternatively mail fax submission receive DATE DATE abstract include s author s institutional affiliation address e mail address telephone fax number paper poster equipment requirement leave line information title body abstract header information remove anonymous review send abstract cls CARDINAL dept language communication science city university GPE sq GPE PERSON PERSON e mail NORP city ac uk fax CARDINAL 0 171 477 8577 minicom tty CARDINAL 0 171 477 8314 question information conference check conference website http www city ac uk cc cls99 htm contact gary morgan 44 0 171 419 3162 shula chiat 44 0 171 477 8297 gary morgan dept linguistic ucl london tel CARDINAL CARDINAL voice text fax CARDINAL 3834198\n"
     ]
    }
   ],
   "source": [
    "def repalce_with_entity_label(text):\n",
    "    doc = nlp(text)\n",
    "    lemma = \" \".join([t.lemma_ for t in doc if not t.is_stop])\n",
    "    doc = nlp(lemma)         \n",
    "    return \" \".join([t.text if not t.ent_type_ else t.ent_type_ for t in doc])\n",
    "\n",
    "def lematize_remove_stop_words(text):\n",
    "    doc = nlp(text)\n",
    "    return \" \".join([t.lemma_ for t in doc if not t.is_stop])\n",
    "\n",
    "print(lematize_remove_stop_words(data[\"text\"][1]))\n",
    "print(\"*\"*100)\n",
    "print(repalce_with_entity_label(lematize_remove_stop_words(data[\"text\"][1])))"
   ]
  },
  {
   "cell_type": "code",
   "execution_count": 137,
   "metadata": {},
   "outputs": [],
   "source": [
    "data[\"preprocessed_text\"] = data[\"text\"].apply(repalce_with_entity_label)"
   ]
  },
  {
   "cell_type": "code",
   "execution_count": 138,
   "metadata": {},
   "outputs": [],
   "source": [
    "data.to_csv(\"pre_processed.csv\",index=False)"
   ]
  },
  {
   "cell_type": "code",
   "execution_count": 146,
   "metadata": {},
   "outputs": [],
   "source": [
    "pre_processed_df = data[[\"preprocessed_text\",\"label\"]]"
   ]
  },
  {
   "cell_type": "code",
   "execution_count": 147,
   "metadata": {},
   "outputs": [
    {
     "data": {
      "text/html": [
       "<div>\n",
       "<style scoped>\n",
       "    .dataframe tbody tr th:only-of-type {\n",
       "        vertical-align: middle;\n",
       "    }\n",
       "\n",
       "    .dataframe tbody tr th {\n",
       "        vertical-align: top;\n",
       "    }\n",
       "\n",
       "    .dataframe thead th {\n",
       "        text-align: right;\n",
       "    }\n",
       "</style>\n",
       "<table border=\"1\" class=\"dataframe\">\n",
       "  <thead>\n",
       "    <tr style=\"text-align: right;\">\n",
       "      <th></th>\n",
       "      <th>preprocessed_text</th>\n",
       "      <th>label</th>\n",
       "    </tr>\n",
       "  </thead>\n",
       "  <tbody>\n",
       "    <tr>\n",
       "      <th>4490</th>\n",
       "      <td>subject sentence processing conference schedul...</td>\n",
       "      <td>not-spam</td>\n",
       "    </tr>\n",
       "    <tr>\n",
       "      <th>5360</th>\n",
       "      <td>subject offering close march DATE DATE offerin...</td>\n",
       "      <td>spam</td>\n",
       "    </tr>\n",
       "    <tr>\n",
       "      <th>10857</th>\n",
       "      <td>subject language instinct isbn 0 304 CARDINAL ...</td>\n",
       "      <td>not-spam</td>\n",
       "    </tr>\n",
       "    <tr>\n",
       "      <th>10625</th>\n",
       "      <td>subject review ostertag ostertag PERSON ed DAT...</td>\n",
       "      <td>not-spam</td>\n",
       "    </tr>\n",
       "    <tr>\n",
       "      <th>9181</th>\n",
       "      <td>subject elsnet elsnet thank</td>\n",
       "      <td>not-spam</td>\n",
       "    </tr>\n",
       "    <tr>\n",
       "      <th>...</th>\n",
       "      <td>...</td>\n",
       "      <td>...</td>\n",
       "    </tr>\n",
       "    <tr>\n",
       "      <th>4154</th>\n",
       "      <td>subject word live rock linguist mass medium ca...</td>\n",
       "      <td>not-spam</td>\n",
       "    </tr>\n",
       "    <tr>\n",
       "      <th>5646</th>\n",
       "      <td>subject silliness eskimo snow cartoon strip du...</td>\n",
       "      <td>not-spam</td>\n",
       "    </tr>\n",
       "    <tr>\n",
       "      <th>9735</th>\n",
       "      <td>subject CARDINAL 1333 native speaker intuition...</td>\n",
       "      <td>not-spam</td>\n",
       "    </tr>\n",
       "    <tr>\n",
       "      <th>11502</th>\n",
       "      <td>subject ph d program colleague professor engli...</td>\n",
       "      <td>not-spam</td>\n",
       "    </tr>\n",
       "    <tr>\n",
       "      <th>2355</th>\n",
       "      <td>subject new http capitalfm com new http capita...</td>\n",
       "      <td>spam</td>\n",
       "    </tr>\n",
       "  </tbody>\n",
       "</table>\n",
       "<p>11572 rows × 2 columns</p>\n",
       "</div>"
      ],
      "text/plain": [
       "                                       preprocessed_text     label\n",
       "4490   subject sentence processing conference schedul...  not-spam\n",
       "5360   subject offering close march DATE DATE offerin...      spam\n",
       "10857  subject language instinct isbn 0 304 CARDINAL ...  not-spam\n",
       "10625  subject review ostertag ostertag PERSON ed DAT...  not-spam\n",
       "9181                         subject elsnet elsnet thank  not-spam\n",
       "...                                                  ...       ...\n",
       "4154   subject word live rock linguist mass medium ca...  not-spam\n",
       "5646   subject silliness eskimo snow cartoon strip du...  not-spam\n",
       "9735   subject CARDINAL 1333 native speaker intuition...  not-spam\n",
       "11502  subject ph d program colleague professor engli...  not-spam\n",
       "2355   subject new http capitalfm com new http capita...      spam\n",
       "\n",
       "[11572 rows x 2 columns]"
      ]
     },
     "execution_count": 147,
     "metadata": {},
     "output_type": "execute_result"
    }
   ],
   "source": [
    "pre_processed_df.sample(frac=1)"
   ]
  },
  {
   "cell_type": "code",
   "execution_count": 150,
   "metadata": {},
   "outputs": [],
   "source": [
    "pre_processed_df = pre_processed_df.replace({\"label\":{\"not-spam\":0,\"spam\":1}})"
   ]
  },
  {
   "cell_type": "code",
   "execution_count": 149,
   "metadata": {},
   "outputs": [
    {
     "data": {
      "text/html": [
       "<div>\n",
       "<style scoped>\n",
       "    .dataframe tbody tr th:only-of-type {\n",
       "        vertical-align: middle;\n",
       "    }\n",
       "\n",
       "    .dataframe tbody tr th {\n",
       "        vertical-align: top;\n",
       "    }\n",
       "\n",
       "    .dataframe thead th {\n",
       "        text-align: right;\n",
       "    }\n",
       "</style>\n",
       "<table border=\"1\" class=\"dataframe\">\n",
       "  <thead>\n",
       "    <tr style=\"text-align: right;\">\n",
       "      <th></th>\n",
       "      <th>preprocessed_text</th>\n",
       "      <th>label</th>\n",
       "    </tr>\n",
       "  </thead>\n",
       "  <tbody>\n",
       "    <tr>\n",
       "      <th>0</th>\n",
       "      <td>subject DATE DATE varia animal kant innateness...</td>\n",
       "      <td>0</td>\n",
       "    </tr>\n",
       "    <tr>\n",
       "      <th>1</th>\n",
       "      <td>subject child language seminar DATE post list ...</td>\n",
       "      <td>0</td>\n",
       "    </tr>\n",
       "    <tr>\n",
       "      <th>2</th>\n",
       "      <td>subject free book CARDINAL good selle financia...</td>\n",
       "      <td>1</td>\n",
       "    </tr>\n",
       "    <tr>\n",
       "      <th>3</th>\n",
       "      <td>subject win enter super novum sweepstake win f...</td>\n",
       "      <td>1</td>\n",
       "    </tr>\n",
       "    <tr>\n",
       "      <th>4</th>\n",
       "      <td>subject ORDINAL intl symposium social communic...</td>\n",
       "      <td>0</td>\n",
       "    </tr>\n",
       "    <tr>\n",
       "      <th>...</th>\n",
       "      <td>...</td>\n",
       "      <td>...</td>\n",
       "    </tr>\n",
       "    <tr>\n",
       "      <th>11567</th>\n",
       "      <td>subject sum represent retroflex summary repres...</td>\n",
       "      <td>0</td>\n",
       "    </tr>\n",
       "    <tr>\n",
       "      <th>11568</th>\n",
       "      <td>subject code switch hello want apologize post ...</td>\n",
       "      <td>0</td>\n",
       "    </tr>\n",
       "    <tr>\n",
       "      <th>11569</th>\n",
       "      <td>subject fanny recommend nek dear sir madam spa...</td>\n",
       "      <td>1</td>\n",
       "    </tr>\n",
       "    <tr>\n",
       "      <th>11570</th>\n",
       "      <td>subject NORP v american s griffin bacal intern...</td>\n",
       "      <td>0</td>\n",
       "    </tr>\n",
       "    <tr>\n",
       "      <th>11571</th>\n",
       "      <td>subject english recent post sxren hard sharder...</td>\n",
       "      <td>0</td>\n",
       "    </tr>\n",
       "  </tbody>\n",
       "</table>\n",
       "<p>11572 rows × 2 columns</p>\n",
       "</div>"
      ],
      "text/plain": [
       "                                       preprocessed_text  label\n",
       "0      subject DATE DATE varia animal kant innateness...      0\n",
       "1      subject child language seminar DATE post list ...      0\n",
       "2      subject free book CARDINAL good selle financia...      1\n",
       "3      subject win enter super novum sweepstake win f...      1\n",
       "4      subject ORDINAL intl symposium social communic...      0\n",
       "...                                                  ...    ...\n",
       "11567  subject sum represent retroflex summary repres...      0\n",
       "11568  subject code switch hello want apologize post ...      0\n",
       "11569  subject fanny recommend nek dear sir madam spa...      1\n",
       "11570  subject NORP v american s griffin bacal intern...      0\n",
       "11571  subject english recent post sxren hard sharder...      0\n",
       "\n",
       "[11572 rows x 2 columns]"
      ]
     },
     "execution_count": 149,
     "metadata": {},
     "output_type": "execute_result"
    }
   ],
   "source": [
    "pre_processed_df"
   ]
  },
  {
   "cell_type": "code",
   "execution_count": 20,
   "metadata": {},
   "outputs": [],
   "source": [
    "from sklearn.feature_extraction.text import TfidfVectorizer\n",
    "from sklearn.metrics import accuracy_score, confusion_matrix, classification_report,precision_score, recall_score,plot_confusion_matrix\n",
    "from sklearn.pipeline import Pipeline\n",
    "from sklearn.model_selection import train_test_split\n",
    "from sklearn.ensemble import RandomForestClassifier as RFC\n",
    "from sklearn.linear_model import LogisticRegression\n",
    "from sklearn.svm import SVC"
   ]
  },
  {
   "cell_type": "code",
   "execution_count": 183,
   "metadata": {},
   "outputs": [],
   "source": [
    "X = pre_processed_df.preprocessed_text\n",
    "Y = pre_processed_df.label\n",
    "X_train, X_test, Y_train, Y_test = train_test_split(X, Y, test_size = 0.2, random_state = 225,stratify=Y)"
   ]
  },
  {
   "cell_type": "code",
   "execution_count": 184,
   "metadata": {},
   "outputs": [
    {
     "name": "stdout",
     "output_type": "stream",
     "text": [
      "9257\n",
      "2315\n"
     ]
    }
   ],
   "source": [
    "print(len(X_train))\n",
    "print(len(X_test))"
   ]
  },
  {
   "cell_type": "code",
   "execution_count": 193,
   "metadata": {},
   "outputs": [
    {
     "data": {
      "text/plain": [
       "0    1930\n",
       "1     385\n",
       "Name: label, dtype: int64"
      ]
     },
     "execution_count": 193,
     "metadata": {},
     "output_type": "execute_result"
    }
   ],
   "source": [
    "Y_test.value_counts()"
   ]
  },
  {
   "cell_type": "code",
   "execution_count": 195,
   "metadata": {},
   "outputs": [
    {
     "data": {
      "text/plain": [
       "0    7718\n",
       "1    1539\n",
       "Name: label, dtype: int64"
      ]
     },
     "execution_count": 195,
     "metadata": {},
     "output_type": "execute_result"
    }
   ],
   "source": [
    "Y_train.value_counts()"
   ]
  },
  {
   "cell_type": "code",
   "execution_count": 203,
   "metadata": {},
   "outputs": [
    {
     "name": "stdout",
     "output_type": "stream",
     "text": [
      "Accuracy :  1.0\n",
      "Precision :  1.0\n",
      "Recall :  1.0\n"
     ]
    }
   ],
   "source": [
    "tvec = TfidfVectorizer()\n",
    "clf = RFC(random_state=42)\n",
    "# clf = LogisticRegression()\n",
    "# clf = SVC(gamma='auto')\n",
    "model = Pipeline([('vectorizer',tvec),('classifier',clf)])\n",
    "model.fit(X_train,Y_train)\n",
    "\n",
    "y_pred = model.predict(X_test)\n",
    "print(\"Accuracy : \", accuracy_score(y_pred,Y_test))\n",
    "print(\"Precision : \", precision_score(y_pred,Y_test, average = 'weighted'))\n",
    "print(\"Recall : \", recall_score(y_pred,Y_test, average = 'weighted'))"
   ]
  },
  {
   "cell_type": "code",
   "execution_count": 204,
   "metadata": {},
   "outputs": [
    {
     "name": "stdout",
     "output_type": "stream",
     "text": [
      "              precision    recall  f1-score   support\n",
      "\n",
      "           0       1.00      1.00      1.00      1930\n",
      "           1       1.00      1.00      1.00       385\n",
      "\n",
      "    accuracy                           1.00      2315\n",
      "   macro avg       1.00      1.00      1.00      2315\n",
      "weighted avg       1.00      1.00      1.00      2315\n",
      "\n"
     ]
    }
   ],
   "source": [
    "print(classification_report(y_pred,Y_test))"
   ]
  },
  {
   "cell_type": "code",
   "execution_count": 205,
   "metadata": {},
   "outputs": [
    {
     "data": {
      "text/plain": [
       "<sklearn.metrics._plot.confusion_matrix.ConfusionMatrixDisplay at 0x7f339fc61250>"
      ]
     },
     "execution_count": 205,
     "metadata": {},
     "output_type": "execute_result"
    },
    {
     "data": {
      "image/png": "[encoded data removed]",
      "text/plain": [
       "<Figure size 432x288 with 2 Axes>"
      ]
     },
     "metadata": {
      "needs_background": "light"
     },
     "output_type": "display_data"
    }
   ],
   "source": [
    "plot_confusion_matrix(model, X_test, Y_test)  "
   ]
  },
  {
   "cell_type": "markdown",
   "metadata": {},
   "source": [
    "#### The diagonal elements represent the number of points for which the predicted label is equal to the true label, while off-diagonal elements are those that are mislabeled by the classifier. The higher the diagonal values of the confusion matrix the better, indicating many correct predictions."
   ]
  },
  {
   "cell_type": "code",
   "execution_count": 206,
   "metadata": {},
   "outputs": [
    {
     "name": "stdout",
     "output_type": "stream",
     "text": [
      "Accuracy :  0.9943844492440604\n",
      "Precision :  0.9944914973789514\n",
      "Recall :  0.9943844492440604\n"
     ]
    }
   ],
   "source": [
    "tvec = TfidfVectorizer()\n",
    "# clf = RFC(random_state=42)\n",
    "clf = LogisticRegression()\n",
    "# clf = SVC(gamma='auto')\n",
    "model = Pipeline([('vectorizer',tvec),('classifier',clf)])\n",
    "model.fit(X_train,Y_train)\n",
    "\n",
    "y_pred = model.predict(X_test)\n",
    "print(\"Accuracy : \", accuracy_score(y_pred,Y_test))\n",
    "print(\"Precision : \", precision_score(y_pred,Y_test, average = 'weighted'))\n",
    "print(\"Recall : \", recall_score(y_pred,Y_test, average = 'weighted'))"
   ]
  },
  {
   "cell_type": "code",
   "execution_count": 207,
   "metadata": {},
   "outputs": [
    {
     "data": {
      "text/plain": [
       "<sklearn.metrics._plot.confusion_matrix.ConfusionMatrixDisplay at 0x7f339fc27850>"
      ]
     },
     "execution_count": 207,
     "metadata": {},
     "output_type": "execute_result"
    },
    {
     "data": {
      "image/png": "[encoded data removed]",
      "text/plain": [
       "<Figure size 432x288 with 2 Axes>"
      ]
     },
     "metadata": {
      "needs_background": "light"
     },
     "output_type": "display_data"
    }
   ],
   "source": [
    "plot_confusion_matrix(model, X_test, Y_test) "
   ]
  },
  {
   "cell_type": "markdown",
   "metadata": {},
   "source": [
    "# Using Transformers"
   ]
  },
  {
   "cell_type": "code",
   "execution_count": 8,
   "metadata": {},
   "outputs": [],
   "source": [
    "df = raw_data_df[[\"text\",\"label\"]]\n",
    "df[\"word_count\"] = df[\"text\"].apply(lambda s: len(re.findall(r'\\w+', s)))\n",
    "df[\"text_length\"] = df[\"text\"].apply(len)"
   ]
  },
  {
   "cell_type": "code",
   "execution_count": 9,
   "metadata": {},
   "outputs": [],
   "source": [
    "def pre_process(text):\n",
    "    doc = nlp(text)\n",
    "    tokens = [t.text for t in doc if not t.is_stop]\n",
    "    return \" \".join(tokens[:30])\n",
    "\n",
    "df[\"text\"] = df[\"text\"].apply(pre_process)"
   ]
  },
  {
   "cell_type": "code",
   "execution_count": 10,
   "metadata": {},
   "outputs": [],
   "source": [
    "df.to_csv(\"tf_text.csv\",index=False)"
   ]
  },
  {
   "cell_type": "code",
   "execution_count": 2,
   "metadata": {},
   "outputs": [],
   "source": [
    "import transformers\n",
    "import numpy as np\n",
    "import torch\n",
    "import pandas as pd\n",
    "from tqdm import tqdm\n",
    "from tqdm.contrib import tzip"
   ]
  },
  {
   "cell_type": "code",
   "execution_count": 3,
   "metadata": {},
   "outputs": [],
   "source": [
    "df = pd.read_csv(\"tf_text.csv\")"
   ]
  },
  {
   "cell_type": "code",
   "execution_count": 4,
   "metadata": {},
   "outputs": [],
   "source": [
    "tokenizer = transformers.DistilBertTokenizer.from_pretrained(\"distilbert-base-uncased\")\n",
    "model = transformers.DistilBertModel.from_pretrained(\"distilbert-base-uncased\",output_hidden_states=True,output_attentions=True)"
   ]
  },
  {
   "cell_type": "code",
   "execution_count": 5,
   "metadata": {},
   "outputs": [],
   "source": [
    "inputs = tokenizer(df[\"text\"].tolist(), return_tensors=\"pt\",padding=True)"
   ]
  },
  {
   "cell_type": "code",
   "execution_count": 6,
   "metadata": {},
   "outputs": [
    {
     "data": {
      "application/vnd.jupyter.widget-view+json": {
       "model_id": "9ada5205fe3442bb866de175361528f1",
       "version_major": 2,
       "version_minor": 0
      },
      "text/plain": [
       "HBox(children=(FloatProgress(value=0.0, max=11572.0), HTML(value='')))"
      ]
     },
     "metadata": {},
     "output_type": "display_data"
    },
    {
     "name": "stdout",
     "output_type": "stream",
     "text": [
      "\n"
     ]
    }
   ],
   "source": [
    "encoded_hidden_state = []\n",
    "# for input_ids, attention_mask in enumerate(tqdm(zip(inputs[\"input_ids\"],inputs[\"attention_mask\"]))):\n",
    "for input_ids, attention_mask in tzip(inputs[\"input_ids\"],inputs[\"attention_mask\"]):\n",
    "    with torch.no_grad():\n",
    "        outputs = model(input_ids.unsqueeze(0), attention_mask=attention_mask.unsqueeze(0))\n",
    "        encoded_hidden_state.append(outputs.last_hidden_state)"
   ]
  },
  {
   "cell_type": "code",
   "execution_count": 7,
   "metadata": {},
   "outputs": [],
   "source": [
    "encoded_hidden_state_ = torch.cat(encoded_hidden_state, out=torch.Tensor(len(encoded_hidden_state),encoded_hidden_state[0].shape[1],encoded_hidden_state[0].shape[2]))"
   ]
  },
  {
   "cell_type": "code",
   "execution_count": 8,
   "metadata": {},
   "outputs": [],
   "source": [
    "a = df[[\"word_count\",\"text_length\"]].to_numpy().reshape(-1,2)"
   ]
  },
  {
   "cell_type": "code",
   "execution_count": 14,
   "metadata": {},
   "outputs": [
    {
     "data": {
      "application/vnd.jupyter.widget-view+json": {
       "model_id": "a77d01ab01fc4fb998538e9f66f42e5a",
       "version_major": 2,
       "version_minor": 0
      },
      "text/plain": [
       "HBox(children=(FloatProgress(value=0.0, max=11572.0), HTML(value='')))"
      ]
     },
     "metadata": {},
     "output_type": "display_data"
    },
    {
     "name": "stdout",
     "output_type": "stream",
     "text": [
      "\n"
     ]
    }
   ],
   "source": [
    "X = []\n",
    "for b,c in tzip(a,encoded_hidden_state_):\n",
    "    X.append(np.hstack((b,c[0])))"
   ]
  },
  {
   "cell_type": "code",
   "execution_count": 15,
   "metadata": {},
   "outputs": [],
   "source": [
    "x = np.stack(X)"
   ]
  },
  {
   "cell_type": "code",
   "execution_count": 21,
   "metadata": {},
   "outputs": [],
   "source": [
    "X_train, X_test, y_train, y_test = train_test_split(X, y, stratify=y, random_state=42)"
   ]
  },
  {
   "cell_type": "code",
   "execution_count": 31,
   "metadata": {},
   "outputs": [],
   "source": [
    "from sklearn.ensemble import RandomForestClassifier"
   ]
  },
  {
   "cell_type": "code",
   "execution_count": 33,
   "metadata": {},
   "outputs": [],
   "source": [
    "rf_classifier = RandomForestClassifier(n_estimators=1500, class_weight=\"balanced\", n_jobs=-1, random_state=42) # Create a baseline random forest (no cross-validation, no hyperparameter tuning)\n",
    "rf_classifier.fit(X_train, y_train)\n",
    "y_pred = rf_classifier.predict(X_test)"
   ]
  },
  {
   "cell_type": "code",
   "execution_count": 35,
   "metadata": {},
   "outputs": [
    {
     "name": "stdout",
     "output_type": "stream",
     "text": [
      "Accuracy :  0.9982716902868994\n",
      "Precision :  0.998289656084333\n",
      "Recall :  0.9982716902868994\n"
     ]
    }
   ],
   "source": [
    "print(\"Accuracy : \", accuracy_score(y_pred,y_test))\n",
    "print(\"Precision : \", precision_score(y_pred,y_test, average = 'weighted'))\n",
    "print(\"Recall : \", recall_score(y_pred,y_test, average = 'weighted'))"
   ]
  },
  {
   "cell_type": "code",
   "execution_count": 38,
   "metadata": {},
   "outputs": [
    {
     "data": {
      "text/plain": [
       "array([[2412,    5],\n",
       "       [   0,  476]])"
      ]
     },
     "execution_count": 38,
     "metadata": {},
     "output_type": "execute_result"
    }
   ],
   "source": [
    "confusion_matrix(y_pred,y_test)"
   ]
  },
  {
   "cell_type": "code",
   "execution_count": 40,
   "metadata": {},
   "outputs": [
    {
     "name": "stdout",
     "output_type": "stream",
     "text": [
      "              precision    recall  f1-score   support\n",
      "\n",
      "    not-spam       1.00      1.00      1.00      2417\n",
      "        spam       0.99      1.00      0.99       476\n",
      "\n",
      "    accuracy                           1.00      2893\n",
      "   macro avg       0.99      1.00      1.00      2893\n",
      "weighted avg       1.00      1.00      1.00      2893\n",
      "\n"
     ]
    }
   ],
   "source": [
    "print(classification_report(y_pred,y_test))"
   ]
  },
  {
   "cell_type": "code",
   "execution_count": null,
   "metadata": {},
   "outputs": [],
   "source": []
  }
 ],
 "metadata": {
  "kernelspec": {
   "display_name": "Python 3",
   "language": "python",
   "name": "python3"
  },
  "language_info": {
   "codemirror_mode": {
    "name": "ipython",
    "version": 3
   },
   "file_extension": ".py",
   "mimetype": "text/x-python",
   "name": "python",
   "nbconvert_exporter": "python",
   "pygments_lexer": "ipython3",
   "version": "3.7.7"
  }
 },
 "nbformat": 4,
 "nbformat_minor": 4
}
